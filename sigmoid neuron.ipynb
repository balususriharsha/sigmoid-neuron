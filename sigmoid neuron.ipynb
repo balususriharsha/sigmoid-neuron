{
 "cells": [
  {
   "cell_type": "code",
   "execution_count": 1,
   "metadata": {},
   "outputs": [],
   "source": [
    "import numpy as np\n",
    "import pandas as pd\n",
    "import seaborn as sns\n",
    "import matplotlib.pyplot as plt\n",
    "import sklearn.datasets\n",
    "from sklearn.metrics import accuracy_score,mean_squared_error\n",
    "from sklearn.model_selection import train_test_split\n",
    "from sklearn.preprocessing import StandardScaler,MinMaxScaler"
   ]
  },
  {
   "cell_type": "code",
   "execution_count": 15,
   "metadata": {},
   "outputs": [],
   "source": [
    "class sigmoidneuron :\n",
    "    \n",
    "    def __init__(self):\n",
    "        self.w = None\n",
    "        self.b = None\n",
    "        \n",
    "    def perceptron(self,x):\n",
    "        return np.dot(self.w,x)+self.b\n",
    "    \n",
    "    def sigmoid(self,x):\n",
    "        return 1.0/(1.0+np.exp(-x))\n",
    "    \n",
    "    def grad_w(self,x,y):\n",
    "        fx = self.sigmoid(self.perceptron(x))\n",
    "        return(fx-y)*fx*(1-fx)*x\n",
    "    \n",
    "    def grad_b(self,x,y):\n",
    "        fx = self.sigmoid(self.perceptron(x))\n",
    "        return(fx-y)*fx*(1-fx)\n",
    "    \n",
    "    def fit(self,X,Y,epoch=1,lr=1,initialize=True):  #lr = learning rate\n",
    "        \n",
    "        if initialize:\n",
    "            self.w=np.random.randn(1,X.shape[1])\n",
    "            self.b=0\n",
    "        \n",
    "        for i in range(epoch):\n",
    "            dw=0\n",
    "            db=0\n",
    "            for x,y in zip(X,Y):\n",
    "                dw+=self.grad_w(x,y)\n",
    "                db+=self.grad_b(x,y) \n",
    "            self.w-=lr*dw\n",
    "            self.b-=lr*db\n",
    "            \n",
    "    def predict(self, X):\n",
    "        Y=[]\n",
    "        for x in X:\n",
    "            result=self.sigmoid(self.perceptron(x))\n",
    "            Y.append(result)\n",
    "        return np.array(Y)"
   ]
  },
  {
   "cell_type": "code",
   "execution_count": 10,
   "metadata": {},
   "outputs": [],
   "source": [
    "cancer=sklearn.datasets.load_breast_cancer()\n",
    "df=pd.DataFrame(cancer.data,columns=cancer.feature_names)\n",
    "df['target']=cancer.target\n",
    "x=df.drop('target',axis=1)\n",
    "y=df['target']"
   ]
  },
  {
   "cell_type": "code",
   "execution_count": 11,
   "metadata": {},
   "outputs": [],
   "source": [
    "x_train,x_test,y_train,y_test = train_test_split(x,y,test_size=0.2,stratify = y,random_state=42)\n",
    "scl=StandardScaler()\n",
    "x_scaled_train = scl.fit_transform(x_train)\n",
    "x_scaled_test =scl.transform(x_test)"
   ]
  },
  {
   "cell_type": "code",
   "execution_count": 12,
   "metadata": {},
   "outputs": [
    {
     "data": {
      "text/plain": [
       "numpy.ndarray"
      ]
     },
     "execution_count": 12,
     "metadata": {},
     "output_type": "execute_result"
    }
   ],
   "source": [
    "type(y_train.values)"
   ]
  },
  {
   "cell_type": "code",
   "execution_count": 16,
   "metadata": {},
   "outputs": [],
   "source": [
    "sn=sigmoidneuron()\n",
    "sn.fit(x_scaled_train,y_train.values,1200,0.25,True)"
   ]
  },
  {
   "cell_type": "code",
   "execution_count": 17,
   "metadata": {},
   "outputs": [
    {
     "data": {
      "text/plain": [
       "0.9912087912087912"
      ]
     },
     "execution_count": 17,
     "metadata": {},
     "output_type": "execute_result"
    }
   ],
   "source": [
    "y_pred_train = sn.predict(x_scaled_train)\n",
    "y_pred_train_binary=(y_pred_train>0.5).astype(np.int)\n",
    "accuracy_score(y_pred_train_binary,y_train)"
   ]
  },
  {
   "cell_type": "code",
   "execution_count": 18,
   "metadata": {},
   "outputs": [
    {
     "data": {
      "text/plain": [
       "0.9824561403508771"
      ]
     },
     "execution_count": 18,
     "metadata": {},
     "output_type": "execute_result"
    }
   ],
   "source": [
    "y_pred_test = sn.predict(x_scaled_test)\n",
    "y_pred_test_binary=(y_pred_test>0.5).astype(np.int)\n",
    "accuracy_score(y_pred_test_binary,y_test)"
   ]
  },
  {
   "cell_type": "markdown",
   "metadata": {},
   "source": [
    "# Dataset 2"
   ]
  },
  {
   "cell_type": "code",
   "execution_count": 22,
   "metadata": {},
   "outputs": [],
   "source": [
    "df=pd.read_csv('heart.csv')\n",
    "x=df.drop('target',axis=1)\n",
    "y=df['target']"
   ]
  },
  {
   "cell_type": "code",
   "execution_count": 28,
   "metadata": {},
   "outputs": [],
   "source": [
    "x_train,x_test,y_train,y_test = train_test_split(x,y,test_size=0.2,stratify = y,random_state=1)\n",
    "scl=StandardScaler()\n",
    "x_scaled_train = scl.fit_transform(x_train)\n",
    "x_scaled_test =scl.transform(x_test)"
   ]
  },
  {
   "cell_type": "code",
   "execution_count": null,
   "metadata": {},
   "outputs": [],
   "source": [
    "sn=sigmoidneuron()\n",
    "sn.fit(x_scaled_train,y_train.values,1200,0.7,True)\n",
    "y_pred_train = sn.predict(x_scaled_train)\n",
    "y_pred_train_binary=(y_pred_train>0.6).astype(np.int)\n",
    "accuracy_score(y_pred_train_binary,y_train)"
   ]
  },
  {
   "cell_type": "code",
   "execution_count": 55,
   "metadata": {},
   "outputs": [
    {
     "data": {
      "text/plain": [
       "0.819672131147541"
      ]
     },
     "execution_count": 55,
     "metadata": {},
     "output_type": "execute_result"
    }
   ],
   "source": [
    "y_pred_test = sn.predict(x_scaled_test)\n",
    "y_pred_test_binary=(y_pred_test>0.6).astype(np.int)\n",
    "accuracy_score(y_pred_test_binary,y_test)"
   ]
  },
  {
   "cell_type": "code",
   "execution_count": 41,
   "metadata": {},
   "outputs": [
    {
     "data": {
      "text/plain": [
       "1    0.544554\n",
       "0    0.455446\n",
       "Name: target, dtype: float64"
      ]
     },
     "execution_count": 41,
     "metadata": {},
     "output_type": "execute_result"
    }
   ],
   "source": [
    "y.value_counts(normalize=True)"
   ]
  },
  {
   "cell_type": "code",
   "execution_count": null,
   "metadata": {},
   "outputs": [],
   "source": []
  }
 ],
 "metadata": {
  "kernelspec": {
   "display_name": "Python 3",
   "language": "python",
   "name": "python3"
  },
  "language_info": {
   "codemirror_mode": {
    "name": "ipython",
    "version": 3
   },
   "file_extension": ".py",
   "mimetype": "text/x-python",
   "name": "python",
   "nbconvert_exporter": "python",
   "pygments_lexer": "ipython3",
   "version": "3.8.3"
  }
 },
 "nbformat": 4,
 "nbformat_minor": 4
}
